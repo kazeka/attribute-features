{
 "metadata": {
  "name": "",
  "signature": "sha256:36b3da00e87eaea2009bb4311c578e277a0ee7dae38a5eca1d270afc59f152f9"
 },
 "nbformat": 3,
 "nbformat_minor": 0,
 "worksheets": []
}